{
  "nbformat": 4,
  "nbformat_minor": 0,
  "metadata": {
    "colab": {
      "provenance": [],
      "authorship_tag": "ABX9TyPT0c27b6pvzc7864KeWZcl",
      "include_colab_link": true
    },
    "kernelspec": {
      "name": "python3",
      "display_name": "Python 3"
    },
    "language_info": {
      "name": "python"
    }
  },
  "cells": [
    {
      "cell_type": "markdown",
      "metadata": {
        "id": "view-in-github",
        "colab_type": "text"
      },
      "source": [
        "<a href=\"https://colab.research.google.com/github/VISHALGAURAV95/Info_extractor/blob/main/info_extractor.ipynb\" target=\"_parent\"><img src=\"https://colab.research.google.com/assets/colab-badge.svg\" alt=\"Open In Colab\"/></a>"
      ]
    },
    {
      "cell_type": "code",
      "execution_count": 2,
      "metadata": {
        "colab": {
          "base_uri": "https://localhost:8080/"
        },
        "id": "xji00QYkCB9R",
        "outputId": "1aabb31c-37d4-41b2-942d-97af1ba6108f"
      },
      "outputs": [
        {
          "output_type": "stream",
          "name": "stdout",
          "text": [
            "Collecting PyPDF2\n",
            "  Downloading pypdf2-3.0.1-py3-none-any.whl (232 kB)\n",
            "\u001b[2K     \u001b[90m━━━━━━━━━━━━━━━━━━━━━━━━━━━━━━━━━━━━━━━━\u001b[0m \u001b[32m232.6/232.6 kB\u001b[0m \u001b[31m3.7 MB/s\u001b[0m eta \u001b[36m0:00:00\u001b[0m\n",
            "\u001b[?25hInstalling collected packages: PyPDF2\n",
            "Successfully installed PyPDF2-3.0.1\n"
          ]
        }
      ],
      "source": [
        "pip install PyPDF2\n"
      ]
    },
    {
      "cell_type": "code",
      "source": [
        "import os\n",
        "import re\n",
        "import pandas as pd\n",
        "import numpy as np\n",
        "from PyPDF2 import PdfReader\n",
        "\n",
        "# Specify the directory containing the PDF files\n",
        "directory = 'content'  # Update this path as per your environment\n",
        "\n",
        "all_text = []\n",
        "\n",
        "# Process each PDF file in the directory\n",
        "for filename in os.listdir(directory):\n",
        "    if filename.endswith(\".pdf\"):\n",
        "        pdf_path = os.path.join(directory, filename)\n",
        "        print(f\"Processing file: {pdf_path}\")  # Debug: Check file being processed\n",
        "        with open(pdf_path, 'rb') as src_file:\n",
        "            reader = PdfReader(src_file)\n",
        "            num_pages = len(reader.pages)\n",
        "            print(f\"Number of pages: {num_pages}\")  # Debug: Check number of pages\n",
        "\n",
        "            # Define the range of pages to process\n",
        "            start_pno = 2\n",
        "            end_pno = num_pages - 1\n",
        "\n",
        "            # Extract text from the specified range of pages\n",
        "            for pg in range(start_pno, end_pno):\n",
        "                page = reader.pages[pg]\n",
        "                text = page.extract_text()\n",
        "                if text:\n",
        "                    all_text.append(text.strip())  # Strip any leading/trailing whitespace\n",
        "\n",
        "# Combine all extracted text\n",
        "full_text = \"\\n\".join(all_text)\n",
        "\n",
        "# Split the text based on a pattern (assuming 'House No' starts a new record)\n",
        "strn = re.split(r'\\n(?=\\s*House\\s+No\\s*:)', full_text)\n",
        "\n",
        "# Debug: Check number of split sections\n",
        "print(f\"Number of sections after splitting: {len(strn)}\")\n",
        "\n",
        "# Extract details using regex and store in a list of dictionaries\n",
        "rows = []\n",
        "for eachline in strn:\n",
        "    h_no = re.findall(r'House\\s+No\\s*:\\s*([^\\n]*)', eachline)\n",
        "    gender_with_voterid = re.findall(r'(Female|Male)\\s+Age\\s*:\\s*([^\\n]+)', eachline)\n",
        "    name = re.findall(r'Name\\s*:\\s*([^\\n]*?)\\s+(?:Father\\'s\\s+Name|Husband\\'s\\s+Name)\\s*:', eachline)\n",
        "    age = re.findall(r'Age\\s*:\\s*(\\d+)', eachline)\n",
        "    f_name = re.findall(r'(?:Father\\'s\\s+Name|Husband\\'s\\s+Name)\\s*:\\s*([^\\n]*)', eachline)\n",
        "\n",
        "    # Extract gender and voter ID\n",
        "    gender = None\n",
        "    voter_id = None\n",
        "    if gender_with_voterid:\n",
        "        gender = gender_with_voterid[0][0].strip()\n",
        "        voter_id = gender_with_voterid[0][1].strip()\n",
        "\n",
        " # Extract age from the end of the line if not found in typical 'Age:' field\n",
        "    if not age:\n",
        "        age = re.findall(r'\\b(\\d{2})\\b', eachline.strip())\n",
        "\n",
        "    if h_no:\n",
        "        row = {\n",
        "            'House No': h_no[0].strip() if h_no else None,\n",
        "            'Gender': gender,\n",
        "            'Name': name[0].strip() if name else None,\n",
        "            'Age': age[0].strip() if age else None,\n",
        "            \"Father's/Husband's Name\": f_name[0].strip() if f_name else None,\n",
        "            'Voter Id': voter_id\n",
        "        }\n",
        "        rows.append(row)\n",
        "\n",
        "# Debug: Check the number of rows extracted\n",
        "print(f\"Number of rows extracted: {len(rows)}\")\n",
        "\n",
        "# Create a DataFrame from the list of dictionaries\n",
        "df = pd.DataFrame(rows)\n",
        "\n",
        "# Clean the DataFrame\n",
        "df.replace('', np.nan, inplace=True)\n",
        "df.dropna(how='all', inplace=True)\n",
        "\n",
        "# Debug: Display the DataFrame\n",
        "print(\"DataFrame preview:\")\n",
        "print(df.head())\n",
        "\n",
        "# Save the DataFrame to an Excel file\n",
        "output_path = 'output.xlsx'\n",
        "df.to_excel(output_path, index=False)\n",
        "print(f\"Data saved to {output_path}\")\n"
      ],
      "metadata": {
        "colab": {
          "base_uri": "https://localhost:8080/"
        },
        "id": "NtKN-cCLFYij",
        "outputId": "93109ce5-1947-4fbc-ec4d-f6326561369d"
      },
      "execution_count": 46,
      "outputs": [
        {
          "output_type": "stream",
          "name": "stdout",
          "text": [
            "Processing file: content/AC027PART003.pdf\n",
            "Number of pages: 41\n",
            "Processing file: content/AC027PART007.pdf\n",
            "Number of pages: 47\n",
            "Processing file: content/AC027PART006.pdf\n",
            "Number of pages: 36\n",
            "Processing file: content/AC027PART002.pdf\n",
            "Number of pages: 28\n",
            "Processing file: content/AC027PART004.pdf\n",
            "Number of pages: 33\n",
            "Processing file: content/AC027PART001.pdf\n",
            "Number of pages: 24\n",
            "Number of sections after splitting: 5599\n",
            "Number of rows extracted: 5598\n",
            "DataFrame preview:\n",
            "                           House No  Gender            Name Age  \\\n",
            "0  Gender : Female Age : HGS0073544  Female         TIANARO  42   \n",
            "1    Gender : Male Age : HGS0125427    Male            None  37   \n",
            "2  Gender : Female Age : HGS0125435  Female  BHUMIKA DARNAL  32   \n",
            "3                                 1    Male     RONGSENWATI  46   \n",
            "4                                 1  Female     SENTIMONGLA  37   \n",
            "\n",
            "  Father's/Husband's Name    Voter Id  \n",
            "0               CHUBAWATI  HGS0073544  \n",
            "1                    None  HGS0125427  \n",
            "2       BIR BAHADUR SONAR  HGS0125435  \n",
            "3            RONGENDANGBA  HGS0073551  \n",
            "4             RONGSENWATI  HGS0073569  \n",
            "Data saved to output.xlsx\n"
          ]
        }
      ]
    }
  ]
}